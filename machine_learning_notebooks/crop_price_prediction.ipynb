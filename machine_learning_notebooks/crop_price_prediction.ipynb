{
 "cells": [
  {
   "cell_type": "code",
   "execution_count": 1,
   "id": "174c19ed",
   "metadata": {},
   "outputs": [],
   "source": [
    "import os\n",
    "import numpy as np\n",
    "import pandas as pd\n",
    "from sklearn.tree import DecisionTreeRegressor\n",
    "from sklearn.ensemble import RandomForestRegressor\n",
    "from sklearn.model_selection import train_test_split\n",
    "from sklearn.model_selection import GridSearchCV\n",
    "import pickle"
   ]
  },
  {
   "cell_type": "code",
   "execution_count": 64,
   "id": "164c9e5a",
   "metadata": {},
   "outputs": [
    {
     "data": {
      "text/html": [
       "<div>\n",
       "<style scoped>\n",
       "    .dataframe tbody tr th:only-of-type {\n",
       "        vertical-align: middle;\n",
       "    }\n",
       "\n",
       "    .dataframe tbody tr th {\n",
       "        vertical-align: top;\n",
       "    }\n",
       "\n",
       "    .dataframe thead th {\n",
       "        text-align: right;\n",
       "    }\n",
       "</style>\n",
       "<table border=\"1\" class=\"dataframe\">\n",
       "  <thead>\n",
       "    <tr style=\"text-align: right;\">\n",
       "      <th></th>\n",
       "      <th>Month</th>\n",
       "      <th>Year</th>\n",
       "      <th>Rainfall</th>\n",
       "      <th>WPI</th>\n",
       "    </tr>\n",
       "  </thead>\n",
       "  <tbody>\n",
       "    <tr>\n",
       "      <th>0</th>\n",
       "      <td>4</td>\n",
       "      <td>2012</td>\n",
       "      <td>47.5</td>\n",
       "      <td>104.6</td>\n",
       "    </tr>\n",
       "    <tr>\n",
       "      <th>1</th>\n",
       "      <td>5</td>\n",
       "      <td>2012</td>\n",
       "      <td>31.7</td>\n",
       "      <td>105.4</td>\n",
       "    </tr>\n",
       "    <tr>\n",
       "      <th>2</th>\n",
       "      <td>6</td>\n",
       "      <td>2012</td>\n",
       "      <td>117.8</td>\n",
       "      <td>104.4</td>\n",
       "    </tr>\n",
       "    <tr>\n",
       "      <th>3</th>\n",
       "      <td>7</td>\n",
       "      <td>2012</td>\n",
       "      <td>250.2</td>\n",
       "      <td>105.8</td>\n",
       "    </tr>\n",
       "    <tr>\n",
       "      <th>4</th>\n",
       "      <td>8</td>\n",
       "      <td>2012</td>\n",
       "      <td>262.4</td>\n",
       "      <td>116.0</td>\n",
       "    </tr>\n",
       "  </tbody>\n",
       "</table>\n",
       "</div>"
      ],
      "text/plain": [
       "   Month  Year  Rainfall    WPI\n",
       "0      4  2012      47.5  104.6\n",
       "1      5  2012      31.7  105.4\n",
       "2      6  2012     117.8  104.4\n",
       "3      7  2012     250.2  105.8\n",
       "4      8  2012     262.4  116.0"
      ]
     },
     "execution_count": 64,
     "metadata": {},
     "output_type": "execute_result"
    }
   ],
   "source": [
    "df = pd.read_csv('D:\\Crop_Prediction\\static\\Wheat.csv')\n",
    "df.head()"
   ]
  },
  {
   "cell_type": "code",
   "execution_count": 65,
   "id": "f40d9b72",
   "metadata": {},
   "outputs": [],
   "source": [
    "X = df.iloc[:, :-1].values\n",
    "Y = df.iloc[:, 3].values"
   ]
  },
  {
   "cell_type": "code",
   "execution_count": 66,
   "id": "d52db4a0",
   "metadata": {},
   "outputs": [],
   "source": [
    "param_grid = {'bootstrap': [True], \n",
    "              'max_depth': [5, 7, 10, None], \n",
    "              'max_features': ['auto', 'log2'], \n",
    "              'n_estimators': [5, 6, 7, 8, 9, 10, 11, 12, 13, 15]\n",
    "             }"
   ]
  },
  {
   "cell_type": "code",
   "execution_count": 67,
   "id": "3326885f",
   "metadata": {},
   "outputs": [],
   "source": [
    "rfr = RandomForestRegressor(random_state = 1)\n",
    "\n",
    "g_search = GridSearchCV(estimator = rfr, param_grid = param_grid, \n",
    "\n",
    "                          cv = 4, n_jobs = -1, verbose = 0, return_train_score=True)"
   ]
  },
  {
   "cell_type": "code",
   "execution_count": 68,
   "id": "5712d95a",
   "metadata": {},
   "outputs": [
    {
     "data": {
      "text/plain": [
       "GridSearchCV(cv=4, estimator=RandomForestRegressor(random_state=1), n_jobs=-1,\n",
       "             param_grid={'bootstrap': [True], 'max_depth': [5, 7, 10, None],\n",
       "                         'max_features': ['auto', 'log2'],\n",
       "                         'n_estimators': [5, 6, 7, 8, 9, 10, 11, 12, 13, 15]},\n",
       "             return_train_score=True)"
      ]
     },
     "execution_count": 68,
     "metadata": {},
     "output_type": "execute_result"
    }
   ],
   "source": [
    "g_search.fit(X, Y)"
   ]
  },
  {
   "cell_type": "code",
   "execution_count": 69,
   "id": "ef92e1be",
   "metadata": {},
   "outputs": [
    {
     "name": "stdout",
     "output_type": "stream",
     "text": [
      "{'bootstrap': True, 'max_depth': 7, 'max_features': 'log2', 'n_estimators': 15}\n"
     ]
    }
   ],
   "source": [
    "print(g_search.best_params_)"
   ]
  },
  {
   "cell_type": "code",
   "execution_count": 70,
   "id": "b3bedc52",
   "metadata": {},
   "outputs": [
    {
     "name": "stdout",
     "output_type": "stream",
     "text": [
      "-0.47495235415551884\n"
     ]
    }
   ],
   "source": [
    "print(g_search.best_score_)"
   ]
  },
  {
   "cell_type": "code",
   "execution_count": 71,
   "id": "ee081a4d",
   "metadata": {},
   "outputs": [
    {
     "data": {
      "text/plain": [
       "RandomForestRegressor(max_depth=7, max_features='log2', n_estimators=15,\n",
       "                      random_state=1)"
      ]
     },
     "execution_count": 71,
     "metadata": {},
     "output_type": "execute_result"
    }
   ],
   "source": [
    "rfr = RandomForestRegressor(random_state = 1, max_depth = 7, max_features = 'log2', n_estimators = 15)\n",
    "rfr.fit(X, Y)"
   ]
  },
  {
   "cell_type": "code",
   "execution_count": 72,
   "id": "74e59ac9",
   "metadata": {},
   "outputs": [
    {
     "data": {
      "text/plain": [
       "array([111.51122222])"
      ]
     },
     "execution_count": 72,
     "metadata": {},
     "output_type": "execute_result"
    }
   ],
   "source": [
    "x = [5, 2012, 31.7]\n",
    "rfr.predict(np.array(x).reshape(1, -1))"
   ]
  },
  {
   "cell_type": "code",
   "execution_count": 73,
   "id": "175050bd",
   "metadata": {},
   "outputs": [],
   "source": [
    "pickle.dump(rfr, open('D:/Downloads/wheat_price_prediction.pkl', \"wb\"))"
   ]
  },
  {
   "cell_type": "code",
   "execution_count": null,
   "id": "08f3f8d5",
   "metadata": {},
   "outputs": [],
   "source": []
  }
 ],
 "metadata": {
  "kernelspec": {
   "display_name": "Python 3 (ipykernel)",
   "language": "python",
   "name": "python3"
  },
  "language_info": {
   "codemirror_mode": {
    "name": "ipython",
    "version": 3
   },
   "file_extension": ".py",
   "mimetype": "text/x-python",
   "name": "python",
   "nbconvert_exporter": "python",
   "pygments_lexer": "ipython3",
   "version": "3.9.7"
  }
 },
 "nbformat": 4,
 "nbformat_minor": 5
}
